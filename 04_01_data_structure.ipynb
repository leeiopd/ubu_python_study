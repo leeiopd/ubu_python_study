{
 "cells": [
  {
   "cell_type": "code",
   "execution_count": null,
   "metadata": {},
   "outputs": [],
   "source": [
    "from IPython.display import IFrame    "
   ]
  },
  {
   "cell_type": "markdown",
   "metadata": {},
   "source": [
    "# 문자열 메소드 활용하기"
   ]
  },
  {
   "cell_type": "markdown",
   "metadata": {},
   "source": [
    "## 변형 _ 문자열은 메소드 사용 이외에는 변형불가_변형된 값은 리턴으로 받아야함\n",
    "\n",
    "### `.capitalize()`, `title()`, `.upper()`\n",
    "\n",
    "`.capitalize()` : 앞글자를 대문자로 만들어 반환합니다.\n",
    "\n",
    "`.title()` : 어포스트로피나 공백을 이후를 대문자로 만들어 반환합니다.\n",
    "\n",
    "`.upper()` : 모두 대문자로 만들어 반환합니다."
   ]
  },
  {
   "cell_type": "code",
   "execution_count": null,
   "metadata": {},
   "outputs": [],
   "source": [
    "a = \"hi! Everyone, i'm kim\""
   ]
  },
  {
   "cell_type": "code",
   "execution_count": null,
   "metadata": {},
   "outputs": [],
   "source": [
    "a.capitalize()"
   ]
  },
  {
   "cell_type": "code",
   "execution_count": null,
   "metadata": {},
   "outputs": [],
   "source": [
    "a.title()"
   ]
  },
  {
   "cell_type": "code",
   "execution_count": null,
   "metadata": {},
   "outputs": [],
   "source": [
    "a.upper()"
   ]
  },
  {
   "cell_type": "markdown",
   "metadata": {},
   "source": [
    "### `lower()`, `swapcase()`\n",
    "\n",
    "`lower()` : 모두 소문자로 만들어 반환합니다.\n",
    "\n",
    "`swapcase()` : 대<->소문자로 변경하여 반환합니다."
   ]
  },
  {
   "cell_type": "code",
   "execution_count": null,
   "metadata": {},
   "outputs": [],
   "source": [
    "a.lower()"
   ]
  },
  {
   "cell_type": "code",
   "execution_count": null,
   "metadata": {},
   "outputs": [],
   "source": [
    "a.swapcase()"
   ]
  },
  {
   "cell_type": "markdown",
   "metadata": {},
   "source": [
    "### `.join(iterable)`\n",
    "\n",
    "특정한 문자열로 만들어 반환합니다."
   ]
  },
  {
   "cell_type": "code",
   "execution_count": null,
   "metadata": {},
   "outputs": [],
   "source": [
    "'!'.join(a) #index로 접근할수 있는 것들의 사이사이마다 !표로 구분지어줌"
   ]
  },
  {
   "cell_type": "code",
   "execution_count": null,
   "metadata": {},
   "outputs": [],
   "source": [
    "' '.join(['hi', 'everyone'])"
   ]
  },
  {
   "cell_type": "code",
   "execution_count": null,
   "metadata": {},
   "outputs": [],
   "source": [
    "a = [1, 2, 3,]\n",
    "''.join(map(str, a)) # map은 함수(str)이 각각 적용이되어 (list a 원소에 각각적용) ''안에 저장"
   ]
  },
  {
   "cell_type": "markdown",
   "metadata": {},
   "source": [
    "### `.replace(old, new[, count])`\n",
    "\n",
    "바꿀 대상 글자를 새로운 글자로 바꿔서 반환합니다. \n",
    "\n",
    "count를 지정하면 해당 갯수만큼만 시행합니다."
   ]
  },
  {
   "cell_type": "code",
   "execution_count": null,
   "metadata": {},
   "outputs": [],
   "source": [
    "'wow!'.replace('o','_')"
   ]
  },
  {
   "cell_type": "code",
   "execution_count": null,
   "metadata": {},
   "outputs": [],
   "source": [
    "'wooooooooooow!'.replace('o','_')"
   ]
  },
  {
   "cell_type": "code",
   "execution_count": null,
   "metadata": {},
   "outputs": [],
   "source": [
    "'wooooooooooow!'.replace('o','_', 2) #갯수만큼 변환 ([]안의 내용 : 써도되고 안써도 되는 값임)"
   ]
  },
  {
   "cell_type": "markdown",
   "metadata": {},
   "source": [
    "### 글씨 제거 (`strip([chars])`)\n",
    "\n",
    "특정한 문자들을 지정하면,  양쪽을 제거하거나 왼쪽을 제거하거나(lstrip) 오른쪽을 제거합니다(rstrip)\n",
    "\n",
    "지정하지 않으면 공백을 제거합니다."
   ]
  },
  {
   "cell_type": "code",
   "execution_count": null,
   "metadata": {},
   "outputs": [],
   "source": [
    "'                        wow!'.strip()"
   ]
  },
  {
   "cell_type": "code",
   "execution_count": null,
   "metadata": {},
   "outputs": [],
   "source": [
    "'             wow!            '.strip()"
   ]
  },
  {
   "cell_type": "code",
   "execution_count": null,
   "metadata": {},
   "outputs": [],
   "source": [
    "'             wow!            '.lstrip()"
   ]
  },
  {
   "cell_type": "code",
   "execution_count": null,
   "metadata": {},
   "outputs": [],
   "source": [
    "'             wow!            '.rstrip()"
   ]
  },
  {
   "cell_type": "code",
   "execution_count": null,
   "metadata": {
    "scrolled": true
   },
   "outputs": [],
   "source": [
    "'wow!\\n'"
   ]
  },
  {
   "cell_type": "code",
   "execution_count": null,
   "metadata": {},
   "outputs": [],
   "source": [
    "'wow!\\n'.strip() #개행문자도 잘라냄"
   ]
  },
  {
   "cell_type": "code",
   "execution_count": null,
   "metadata": {},
   "outputs": [],
   "source": [
    "'hihihihihihihi'.strip('hi')"
   ]
  },
  {
   "cell_type": "code",
   "execution_count": null,
   "metadata": {},
   "outputs": [],
   "source": [
    "'a_a_a_a'.strip('a') #양끝을 잘라냄"
   ]
  },
  {
   "cell_type": "markdown",
   "metadata": {},
   "source": [
    "## 탐색 및 검증\n",
    "\n",
    "### `.find(x)` : x의 첫 번째 위치를 반환합니다. 없으면, -1을 반환합니다."
   ]
  },
  {
   "cell_type": "code",
   "execution_count": null,
   "metadata": {},
   "outputs": [],
   "source": [
    "'apple'.find('a')"
   ]
  },
  {
   "cell_type": "code",
   "execution_count": null,
   "metadata": {},
   "outputs": [],
   "source": [
    "'apple'.find('p') #첫번째 위치만 반환"
   ]
  },
  {
   "cell_type": "code",
   "execution_count": null,
   "metadata": {},
   "outputs": [],
   "source": [
    "'apple'.find('f') #찾는것이 없으면 -1 반환"
   ]
  },
  {
   "cell_type": "markdown",
   "metadata": {},
   "source": [
    "### `.index(x)` : x의 첫번째 위치를 반환합니다. 없으면, 오류가 뜹니다."
   ]
  },
  {
   "cell_type": "code",
   "execution_count": null,
   "metadata": {},
   "outputs": [],
   "source": [
    "'apple'.index('p')"
   ]
  },
  {
   "cell_type": "code",
   "execution_count": null,
   "metadata": {},
   "outputs": [],
   "source": [
    "'apple'.index('f') #index는 없으면 에러 발생"
   ]
  },
  {
   "cell_type": "code",
   "execution_count": null,
   "metadata": {},
   "outputs": [],
   "source": [
    "'apple'.count('p')"
   ]
  },
  {
   "cell_type": "markdown",
   "metadata": {},
   "source": [
    "### 다양한 확인 메소드 : 참/거짓 반환\n",
    "```\n",
    ".isaplha(), .isdecimal(), .isdigit(), .isnumeric(), .isspace(), .issuper(), .istitle(), .islower()\n",
    "```"
   ]
  },
  {
   "cell_type": "code",
   "execution_count": null,
   "metadata": {},
   "outputs": [],
   "source": [
    "'adf2fd'.isalpha()"
   ]
  },
  {
   "cell_type": "code",
   "execution_count": null,
   "metadata": {},
   "outputs": [],
   "source": [
    "'123'.isdecimal()"
   ]
  },
  {
   "cell_type": "code",
   "execution_count": null,
   "metadata": {},
   "outputs": [],
   "source": [
    "a = '12'\n",
    "if a.isdecimal():\n",
    "    a = int(a)\n",
    "    print(type(a))\n",
    "else:\n",
    "    print('정수로 변환할 수 없습니다.')"
   ]
  },
  {
   "cell_type": "markdown",
   "metadata": {},
   "source": [
    "## `split()`\n",
    "\n",
    "문자열을 특정한 단위로 나누어 리스트로 반환합니다."
   ]
  },
  {
   "cell_type": "code",
   "execution_count": null,
   "metadata": {},
   "outputs": [],
   "source": [
    "'a_b_c'.split('_')"
   ]
  },
  {
   "cell_type": "code",
   "execution_count": null,
   "metadata": {},
   "outputs": [],
   "source": [
    "inputs = input().split()\n",
    "print(inputs)"
   ]
  },
  {
   "cell_type": "code",
   "execution_count": null,
   "metadata": {
    "scrolled": false
   },
   "outputs": [],
   "source": [
    "inputs = list(map(int, input().split()))\n",
    "print(inputs)"
   ]
  },
  {
   "cell_type": "markdown",
   "metadata": {},
   "source": [
    "## 문자열 뒤집기"
   ]
  },
  {
   "cell_type": "code",
   "execution_count": null,
   "metadata": {},
   "outputs": [],
   "source": [
    "'123'[::-1]"
   ]
  },
  {
   "cell_type": "code",
   "execution_count": null,
   "metadata": {
    "scrolled": true
   },
   "outputs": [],
   "source": [
    "''.join(reversed('123'))"
   ]
  },
  {
   "cell_type": "markdown",
   "metadata": {},
   "source": [
    "# 리스트 메소드 활용하기 _ list는 메소드 사용시 현재 메소드 자체가 변경됨\n",
    "\n",
    "## 값 추가 및 삭제\n",
    "\n",
    "### `.append(x)`\n",
    "\n",
    "리스트에 값을 추가할 수 있습니다."
   ]
  },
  {
   "cell_type": "code",
   "execution_count": null,
   "metadata": {},
   "outputs": [],
   "source": [
    "cafe = ['tomtoms']"
   ]
  },
  {
   "cell_type": "code",
   "execution_count": null,
   "metadata": {},
   "outputs": [],
   "source": [
    "cafe.append('다방')\n",
    "print(cafe)"
   ]
  },
  {
   "cell_type": "code",
   "execution_count": null,
   "metadata": {},
   "outputs": [],
   "source": [
    "cafe.append(['a','b'])\n",
    "print(cafe)"
   ]
  },
  {
   "cell_type": "markdown",
   "metadata": {},
   "source": [
    "### `.extend(iterable)`\n",
    "\n",
    "리스트에 iterable(list, range, tuple, string*유의*) 값을 붙일 수가 있습니다."
   ]
  },
  {
   "cell_type": "code",
   "execution_count": null,
   "metadata": {},
   "outputs": [],
   "source": [
    "cafe.extend(['ediya', '빽다방'])\n",
    "print(cafe)"
   ]
  },
  {
   "cell_type": "code",
   "execution_count": null,
   "metadata": {},
   "outputs": [],
   "source": [
    "cafe.extend('ediya')\n",
    "print(cafe)"
   ]
  },
  {
   "cell_type": "code",
   "execution_count": null,
   "metadata": {},
   "outputs": [],
   "source": [
    "print(cafe)"
   ]
  },
  {
   "cell_type": "markdown",
   "metadata": {},
   "source": [
    "### `insert(i, x)`\n",
    "\n",
    "정해진 위치 `i`에 값을 추가합니다. "
   ]
  },
  {
   "cell_type": "code",
   "execution_count": null,
   "metadata": {},
   "outputs": [],
   "source": [
    "fruits  = ['apple', 'banana']"
   ]
  },
  {
   "cell_type": "code",
   "execution_count": null,
   "metadata": {},
   "outputs": [],
   "source": [
    "fruits.insert(0, 'pineapple')"
   ]
  },
  {
   "cell_type": "code",
   "execution_count": null,
   "metadata": {},
   "outputs": [],
   "source": [
    "print(fruits)"
   ]
  },
  {
   "cell_type": "code",
   "execution_count": null,
   "metadata": {},
   "outputs": [],
   "source": [
    "fruits = ['melon'] + fruits\n",
    "print(fruits)"
   ]
  },
  {
   "cell_type": "markdown",
   "metadata": {},
   "source": [
    "### `remove(x)`\n",
    "\n",
    "리스트에서 값이 x인 것을 삭제합니다. "
   ]
  },
  {
   "cell_type": "code",
   "execution_count": null,
   "metadata": {},
   "outputs": [],
   "source": [
    "fruits.remove('apple')"
   ]
  },
  {
   "cell_type": "code",
   "execution_count": null,
   "metadata": {},
   "outputs": [],
   "source": [
    "print(fruits)"
   ]
  },
  {
   "cell_type": "markdown",
   "metadata": {},
   "source": [
    "### `.pop(i)`\n",
    "\n",
    "정해진 위치 `i`에 있는 값을 삭제하며, 그 항목을 반환합니다.\n",
    "\n",
    "`i`가 지정되지 않으면 마지막 항목을 삭제하고 되돌려줍니다."
   ]
  },
  {
   "cell_type": "code",
   "execution_count": null,
   "metadata": {},
   "outputs": [],
   "source": [
    "print(fruits)\n",
    "fruits.pop() #remove는 삭제, pop은 삭제된 값이 반환됨 (지운 값을 보여줌)"
   ]
  },
  {
   "cell_type": "code",
   "execution_count": null,
   "metadata": {},
   "outputs": [],
   "source": [
    "fruits.append('melon')\n",
    "fruits.append('banana')\n",
    "print(fruits)"
   ]
  },
  {
   "cell_type": "code",
   "execution_count": null,
   "metadata": {},
   "outputs": [],
   "source": [
    "fruits.pop(2)"
   ]
  },
  {
   "cell_type": "code",
   "execution_count": null,
   "metadata": {},
   "outputs": [],
   "source": [
    "fruits.pop(0)"
   ]
  },
  {
   "cell_type": "markdown",
   "metadata": {},
   "source": [
    "## 탐색 및 정렬"
   ]
  },
  {
   "cell_type": "markdown",
   "metadata": {},
   "source": [
    "### `.index(x)`\n",
    "\n",
    "원하는 값을 찾아 index 값을 반환합니다."
   ]
  },
  {
   "cell_type": "code",
   "execution_count": null,
   "metadata": {},
   "outputs": [],
   "source": [
    "a = [1, 2, 5, 3, 4, 5]\n",
    "a.index(5) # 첫번째로 만나는 값의 위치를 반환"
   ]
  },
  {
   "cell_type": "markdown",
   "metadata": {},
   "source": [
    "### `.count(x)`\n",
    "\n",
    "원하는 값의 갯수를 확인할 수 있습니다."
   ]
  },
  {
   "cell_type": "code",
   "execution_count": null,
   "metadata": {},
   "outputs": [],
   "source": [
    "a = [1, 2, 3, 4, 5, 6, 1]\n",
    "a.count(1)"
   ]
  },
  {
   "cell_type": "markdown",
   "metadata": {},
   "source": [
    "### `.sort()`\n",
    "\n",
    "정렬을 합니다. \n",
    "\n",
    "sorted()와는 다르게 원본 list를 변형시키고, None을 리턴합니다."
   ]
  },
  {
   "cell_type": "code",
   "execution_count": null,
   "metadata": {},
   "outputs": [],
   "source": [
    "print(a)\n",
    "a.sort()\n",
    "print(a)"
   ]
  },
  {
   "cell_type": "code",
   "execution_count": null,
   "metadata": {},
   "outputs": [],
   "source": [
    "a.sort(reverse=True)\n",
    "print(a)"
   ]
  },
  {
   "cell_type": "markdown",
   "metadata": {},
   "source": [
    "### `reverse()`\n",
    "\n",
    "반대로 뒤집습니다. (정렬 아님)"
   ]
  },
  {
   "cell_type": "code",
   "execution_count": null,
   "metadata": {},
   "outputs": [],
   "source": [
    "a = [2, 1, 5]\n",
    "list(reversed(a)) #뒤집기만 함"
   ]
  },
  {
   "cell_type": "markdown",
   "metadata": {},
   "source": [
    "## 복사"
   ]
  },
  {
   "cell_type": "code",
   "execution_count": null,
   "metadata": {},
   "outputs": [],
   "source": [
    "# 리스트 복사를 해봅시다.\n",
    "a = [1, 2, 3]\n",
    "b = a"
   ]
  },
  {
   "cell_type": "code",
   "execution_count": null,
   "metadata": {},
   "outputs": [],
   "source": [
    "# b의 값을 바꾸고 a를 출력해봅시다.\n",
    "b[0] = 5\n",
    "print(a)"
   ]
  },
  {
   "cell_type": "code",
   "execution_count": null,
   "metadata": {},
   "outputs": [],
   "source": [
    "# 실제로 같은지 확인해봅시다.\n",
    "print(b)\n",
    "print(id(a))\n",
    "print(id(b)) #같은 메모리가 할당되어 있다."
   ]
  },
  {
   "cell_type": "code",
   "execution_count": null,
   "metadata": {},
   "outputs": [],
   "source": [
    "# 숫자를 확인해봅시다.\n",
    "a = 10005\n",
    "b = a\n",
    "b = 1003\n",
    "print(a)"
   ]
  },
  {
   "cell_type": "code",
   "execution_count": null,
   "metadata": {},
   "outputs": [],
   "source": [
    "a = 10005\n",
    "print(id(a))\n",
    "a = 1238123154654\n",
    "print(id(a)) #python에서 인수 저장에서는 새로운 메모리 공간을 할당해서 저장함."
   ]
  },
  {
   "cell_type": "code",
   "execution_count": null,
   "metadata": {},
   "outputs": [],
   "source": [
    "# 딕셔너리도 확인해봅시다."
   ]
  },
  {
   "cell_type": "code",
   "execution_count": null,
   "metadata": {},
   "outputs": [],
   "source": [
    "IFrame('https://goo.gl/vx1yGx', width='100%', height='300px') #리스트의 인수는 주소값으로 담겨있기 때문에 복사된 값으로 변경가능"
   ]
  },
  {
   "cell_type": "code",
   "execution_count": null,
   "metadata": {},
   "outputs": [],
   "source": [
    "IFrame('https://goo.gl/N43pw6', width='100%', height='300px') #인수는 주소가 새로 담기기 때문에 복사된 값을 변경해도 원래값이 변경 안됨."
   ]
  },
  {
   "cell_type": "markdown",
   "metadata": {},
   "source": [
    "* 파이썬에서 모든 변수는 객체의 주소를 가지고 있을 뿐입니다. \n",
    "\n",
    "```\n",
    "num = [1, 2, 3]\n",
    "```\n",
    "\n",
    "* 위와 같이 변수를 생성하면 hong이라는 객체를 생성하고, 변수에는 객체의 주소가 저장됩니다.\n",
    "\n",
    "\n",
    "* 변경가능한(mutable) 자료형과 변경불가능한(immutable) 자료형은 서로 다르게 동작합니다.\n",
    "\n",
    "따라서, 복사를 하고 싶을 때에는 다음과 같이 해야한다."
   ]
  },
  {
   "cell_type": "code",
   "execution_count": null,
   "metadata": {},
   "outputs": [],
   "source": [
    "[1, 2, 3][:]"
   ]
  },
  {
   "cell_type": "code",
   "execution_count": null,
   "metadata": {},
   "outputs": [],
   "source": [
    "# 복사 예시\n",
    "a = [1, 2, 3]\n",
    "b = a[:]\n",
    "b[0] = 5\n",
    "print(a)"
   ]
  },
  {
   "cell_type": "code",
   "execution_count": null,
   "metadata": {},
   "outputs": [],
   "source": [
    "# 복사 예시2\n",
    "a = [1, 2, 3]\n",
    "b = list(a)\n",
    "b[0] = 5\n",
    "print(a)"
   ]
  },
  {
   "cell_type": "code",
   "execution_count": null,
   "metadata": {},
   "outputs": [],
   "source": [
    "IFrame('https://goo.gl/ZH6yZd', width='100%', height='300px')"
   ]
  },
  {
   "cell_type": "markdown",
   "metadata": {},
   "source": [
    "* 하지만, 이렇게 하는 것도 일부 상황에만 서로 다른 얕은 복사(shallow copy)입니다."
   ]
  },
  {
   "cell_type": "code",
   "execution_count": null,
   "metadata": {
    "scrolled": true
   },
   "outputs": [],
   "source": [
    "# 얕은 복사 예시, 얕은복사는 원본이 바뀌지 않음.\n",
    "import copy\n",
    "a = [1, 2, 3]\n",
    "b = copy.copy(a)\n",
    "b[0] = 5\n",
    "print(a)"
   ]
  },
  {
   "cell_type": "code",
   "execution_count": null,
   "metadata": {},
   "outputs": [],
   "source": [
    "a = [[1, 2], 2, 3]\n",
    "b = a\n",
    "b[0][0] = 5\n",
    "print(a)\n",
    "print(b)\n",
    "print(id(a))\n",
    "print(id(b)) # 얕은복사이기 때문에 a와 b의 주소가 같음"
   ]
  },
  {
   "cell_type": "code",
   "execution_count": null,
   "metadata": {},
   "outputs": [],
   "source": [
    "IFrame('https://goo.gl/FZcYbJ', width='100%', height='300px')"
   ]
  },
  {
   "cell_type": "markdown",
   "metadata": {},
   "source": [
    "* 만일 중첩된 상황에서 복사를 하고 싶다면, 깊은 복사(deep copy)를 해야합니다. \n",
    "\n",
    "* 즉, 내부에 있는 모든 객체까지 새롭게 값이 변경됩니다."
   ]
  },
  {
   "cell_type": "code",
   "execution_count": null,
   "metadata": {},
   "outputs": [],
   "source": [
    "# 깊은 복사 예시\n",
    "import copy\n",
    "a = [[1,2], 2, 3]\n",
    "b = copy.deepcopy(a)\n",
    "b[0][0] = 5\n",
    "b[1] = 7\n",
    "print(a)\n",
    "print(b)\n",
    "print(id(a[0]))\n",
    "print(id(b[0])) # deepcopy는 a와 b의 주소가 다름. 따로 b가 deepcopy로 인해 따로 저장되었음"
   ]
  },
  {
   "cell_type": "code",
   "execution_count": null,
   "metadata": {
    "scrolled": false
   },
   "outputs": [],
   "source": [
    "IFrame('https://goo.gl/dtnCzY', width='100%', height='300px')"
   ]
  },
  {
   "cell_type": "markdown",
   "metadata": {},
   "source": [
    "## 삭제 `clear()`\n",
    "\n",
    "리스트의 모든 항목을 삭제합니다."
   ]
  },
  {
   "cell_type": "code",
   "execution_count": null,
   "metadata": {},
   "outputs": [],
   "source": [
    "a.clear()"
   ]
  },
  {
   "cell_type": "code",
   "execution_count": null,
   "metadata": {},
   "outputs": [],
   "source": [
    "print(a)"
   ]
  },
  {
   "cell_type": "code",
   "execution_count": null,
   "metadata": {},
   "outputs": [],
   "source": [
    "a = [1, 2, 3]\n",
    "del a[1]\n",
    "print(a)"
   ]
  },
  {
   "cell_type": "markdown",
   "metadata": {},
   "source": [
    "# List Comprehension\n",
    "\n",
    "List를 만들 수 있는 간단한 방법이 있습니다."
   ]
  },
  {
   "cell_type": "markdown",
   "metadata": {},
   "source": [
    "## 사전 준비\n",
    "\n",
    "> 다음의 리스트를 만들어보세요. \n",
    "\n",
    "1. 1~10까지의 숫자 중 짝수만 담긴 리스트 `even_list`\n",
    "\n",
    "2. 1~10까지의 숫자로 만든 세제곱 담긴 리스트 `cubic_list`"
   ]
  },
  {
   "cell_type": "code",
   "execution_count": null,
   "metadata": {},
   "outputs": [],
   "source": [
    "even_list = []\n",
    "cubic_list = []\n",
    "for i in range(1, 11):\n",
    "    if i % 2 == 0:\n",
    "        even_list.append(i)\n",
    "    #축약형 even_list = [x*2 for x in range(1,6)], range의 숫자에 2를 곱함 -> 반복 -> 리스트를 만듬\n",
    "    \n",
    "    cubic_list.append(i**3)\n",
    "    #cubic_list = [x**3 for x in range(1,11)]"
   ]
  },
  {
   "cell_type": "code",
   "execution_count": null,
   "metadata": {},
   "outputs": [],
   "source": [
    "even_list2 = [x for x in range(1,11) if x % 2 == 0] # if문 축약형"
   ]
  },
  {
   "cell_type": "code",
   "execution_count": null,
   "metadata": {},
   "outputs": [],
   "source": [
    "print(even_list)\n",
    "print(cubic_list)\n",
    "print(even_list2)"
   ]
  },
  {
   "cell_type": "markdown",
   "metadata": {},
   "source": [
    "## 활용법\n",
    "\n",
    "여러개의 `for` 혹은 `if`문을 중첩적으로 사용 가능합니다.\n",
    "\n"
   ]
  },
  {
   "cell_type": "markdown",
   "metadata": {},
   "source": [
    "## 연습 문제\n",
    "\n",
    "### 짝짓기 - 곱집합\n",
    "\n",
    "> 주어진 두 list의 가능한 모든 조합을 담은 `pair` 리스트를 만들어주세요.\n",
    "\n",
    "1. 반복문 활용\n",
    "2. list comprehension 활용\n",
    "\n",
    "---\n",
    "\n",
    "```\n",
    "girls = ['jane', 'iu', 'mary']\n",
    "boys = ['justin', 'david', 'kim']\n",
    "\n",
    "예시 출력)\n",
    "    \n",
    "[('justin', 'jane'), ('justin', 'iu'), ('justin', 'mary'), ('david', 'jane'), ('david', 'iu'), ('david', 'mary'), ('kim', 'jane'), ('kim', 'iu'), ('kim', 'mary')]\n",
    "```\n",
    "\n"
   ]
  },
  {
   "cell_type": "code",
   "execution_count": null,
   "metadata": {},
   "outputs": [],
   "source": [
    "girls = ['jane', 'iu', 'mary']\n",
    "boys = ['justin', 'david', 'kim']"
   ]
  },
  {
   "cell_type": "code",
   "execution_count": null,
   "metadata": {},
   "outputs": [],
   "source": [
    "pair = []\n",
    "for girl in girls:\n",
    "    for boy in boys:\n",
    "        pair.append((boy, girl))\n",
    "print(pair)"
   ]
  },
  {
   "cell_type": "code",
   "execution_count": null,
   "metadata": {},
   "outputs": [],
   "source": [
    "pair2 = [(x, y) for x in boys for y in girls]\n",
    "print(pair2)"
   ]
  },
  {
   "cell_type": "markdown",
   "metadata": {
    "slideshow": {
     "slide_type": "slide"
    }
   },
   "source": [
    "### 피타고라스 정리\n",
    "\n",
    "> 주어진 조건(x < y < z < 50) 내에서 피타고라스 방정식의 해를 찾아보세요.\n",
    "\n",
    "1. 반복문 활용\n",
    "\n",
    "2. list comprehension 활용\n",
    "\n",
    "```\n",
    "예시 출력)\n",
    "[(3, 4, 5), (5, 12, 13), (6, 8, 10), (7, 24, 25), (8, 15, 17), (9, 12, 15), (9, 40, 41), (10, 24, 26), (12, 16, 20), (12, 35, 37), (15, 20, 25), (15, 36, 39), (16, 30, 34), (18, 24, 30), (20, 21, 29), (21, 28, 35), (24, 32, 40), (27, 36, 45)]\n",
    "```"
   ]
  },
  {
   "cell_type": "code",
   "execution_count": null,
   "metadata": {
    "scrolled": true
   },
   "outputs": [],
   "source": [
    "lists = [ (x,y,z) for x in range(1,50) for y in range(x+1,50) for z in range(y+1,50) if x**2 + y**2 == z**2  ]\n",
    "print(lists)"
   ]
  },
  {
   "cell_type": "code",
   "execution_count": null,
   "metadata": {},
   "outputs": [],
   "source": [
    "lists2 = [ (x,y,z) for x in range(1,50) for y in range(1,50) for z in range(1,50) if x**2 + y**2 == z**2 and x<y<z  ]\n",
    "print(lists2)"
   ]
  },
  {
   "cell_type": "markdown",
   "metadata": {},
   "source": [
    "### 모음 제거하기\n",
    "\n",
    "> 다음의 문장에서 모음(a, e, i, o, u)를 모두 제거하시오.\n",
    "\n",
    "1. list comprehension만 사용해보세요.\n",
    "\n",
    "``` \n",
    "    words = 'Life is too short, you need python!'\n",
    "\n",
    "    예시출력)\n",
    "    Lf s t shrt, y nd pythn!\n",
    "```"
   ]
  },
  {
   "cell_type": "code",
   "execution_count": null,
   "metadata": {},
   "outputs": [],
   "source": [
    "words = 'Life is too short, you need python!'\n",
    "word = [x for x in words if x not in ['a', 'e', 'i', 'o', 'u']]\n",
    "print(''.join(word))"
   ]
  },
  {
   "cell_type": "code",
   "execution_count": null,
   "metadata": {
    "scrolled": true
   },
   "outputs": [],
   "source": [
    "words = 'Life is too short, you need python!'\n",
    "words = [x for x in words if not x in ('a', 'e', 'i','o','u')]\n",
    "print(''.join(words)) # 리스트에 특정 구분자를 추가하여 문자열로 반환함"
   ]
  },
  {
   "cell_type": "markdown",
   "metadata": {},
   "source": [
    "# 딕셔너리 메소드 활용"
   ]
  },
  {
   "cell_type": "markdown",
   "metadata": {},
   "source": [
    "## 추가 및 삭제\n",
    "\n",
    "### `.pop(key[, default])`\n",
    "\n",
    "key가 딕셔너리에 있으면 제거하고 그 값을 돌려줍니다. 그렇지 않으면 default를 반환합니다.\n",
    "\n",
    "default가 없는 상태에서 딕셔너리에 없으면 KeyError가 발생합니다."
   ]
  },
  {
   "cell_type": "markdown",
   "metadata": {},
   "source": [
    "### `.update()`\n",
    "\n",
    "값을 제공하는 key, value로 덮어씁니다. "
   ]
  },
  {
   "cell_type": "markdown",
   "metadata": {},
   "source": [
    "### `.get(key[, default])`\n",
    "\n",
    "key를 통해 value를 가져옵니다. \n",
    "\n",
    "절대로 KeyError가 발생하지 않습니다. default는 기본적으로 None입니다."
   ]
  },
  {
   "cell_type": "markdown",
   "metadata": {},
   "source": [
    "## dictionary comprehension\n",
    "\n",
    "dictionary도 comprehension을 활용하여 만들 수 있습니다. \n",
    "\n",
    "* 추후에 zip, map 등을 배우고 다시 다루도록 하겠습니다 :)"
   ]
  }
 ],
 "metadata": {
  "kernelspec": {
   "display_name": "Python 3",
   "language": "python",
   "name": "python3"
  },
  "language_info": {
   "codemirror_mode": {
    "name": "ipython",
    "version": 3
   },
   "file_extension": ".py",
   "mimetype": "text/x-python",
   "name": "python",
   "nbconvert_exporter": "python",
   "pygments_lexer": "ipython3",
   "version": "3.6.7"
  },
  "latex_envs": {
   "LaTeX_envs_menu_present": true,
   "autoclose": false,
   "autocomplete": true,
   "bibliofile": "biblio.bib",
   "cite_by": "apalike",
   "current_citInitial": 1,
   "eqLabelWithNumbers": true,
   "eqNumInitial": 1,
   "hotkeys": {
    "equation": "Ctrl-E",
    "itemize": "Ctrl-I"
   },
   "labels_anchors": false,
   "latex_user_defs": false,
   "report_style_numbering": false,
   "user_envs_cfg": false
  },
  "toc": {
   "base_numbering": 1,
   "nav_menu": {},
   "number_sections": true,
   "sideBar": true,
   "skip_h1_title": false,
   "title_cell": "Table of Contents",
   "title_sidebar": "Contents",
   "toc_cell": false,
   "toc_position": {},
   "toc_section_display": true,
   "toc_window_display": false
  }
 },
 "nbformat": 4,
 "nbformat_minor": 2
}
